
{
 "cells": [
  {
   "cell_type": "markdown",
   "metadata": {},
   "source": [
    "# 0. Data Exploration\n",
    "\n",
    "This notebook provides an initial exploration of the processed Amazon and MovieLens datasets. The goal is to understand the basic characteristics of the data, identify potential issues like missing values, and get a high-level overview of user and item distributions.\n",
    "\n",
    "We will cover:\n",
    "1.  Loading processed data (Parquet files) using Dask.\n",
    "2.  Displaying basic summary statistics.\n",
    "3.  Analyzing and visualizing missing values.\n",
    "4.  Checking data types.\n",
    "5.  Plotting high-level distributions (e.g., number of unique users/items, overall rating distribution)."
   ]
  },
  {
   "cell_type": "code",
   "execution_count": null,
   "metadata": {},
   "outputs": [],
   "source": [
    "import dask.dataframe as dd
",
    "import pandas as pd
",
    "import numpy as np
",
    "import os
",
    "import matplotlib.pyplot as plt
",
    "import seaborn as sns
",
    "from tqdm.notebook import tqdm
",
    "# Optional: For Dask dashboard
",
    "# from dask.distributed import Client"
   ]
  },
  {
   "cell_type": "markdown",
   "metadata": {},
   "source": [
    "## 1. Configuration and Data Loading\n",
    "\n",
    "Define paths to the processed Parquet files and set up Dask client (optional)."
   ]
  },
  {
   "cell_type": "code",
   "execution_count": null,
   "metadata": {},
   "outputs": [],
   "source": [
    "# Define paths
",
    "PROCESSED_DATA_DIR = '../data/processed/'
",
    "AMAZON_PROCESSED_DIR = os.path.join(PROCESSED_DATA_DIR, 'amazon/')
",
    "MOVIELENS_PROCESSED_DIR = os.path.join(PROCESSED_DATA_DIR, 'movielens/')
",
    "
",
    "# Amazon categories to analyze (should match what data_loader.py processed)
",
    "AMAZON_CATEGORIES = [
",
    "    'Electronics',
",
    "    'Home_and_Kitchen',
",
    "    'Clothing_Shoes_and_Jewelry',
",
    "    'Beauty_and_Personal_Care',
",
    "    'Health_and_Household',
",
    "    'Books'
",
    "]
",
    "
",
    "# Initialize Dask client (uncomment if you want to use the Dask dashboard)
",
    "# client = Client(n_workers=4, threads_per_worker=2, memory_limit='4GB') # Adjust as needed
",
    "# print(client)"
   ]
  },
  {
   "cell_type": "code",
   "execution_count": null,
   "metadata": {},
   "outputs": [],
   "source": [
    "def load_amazon_data(category):
",
    "    """Load Amazon reviews and metadata for a given category from Parquet using Dask."""
",
    "    reviews_path = os.path.join(AMAZON_PROCESSED_DIR, f'{category}_reviews.parquet')
",
    "    meta_path = os.path.join(AMAZON_PROCESSED_DIR, f'meta_{category}.parquet')
",
    "    
",
    "    reviews_ddf = None
",
    "    meta_ddf = None
",
    "    
",
    "    if os.path.exists(reviews_path):
",
    "        print(f"Loading Amazon {category} reviews from {reviews_path}")
",
    "        reviews_ddf = dd.read_parquet(reviews_path)
",
    "    else:
",
    "        print(f"Warning: {reviews_path} not found. Skipping {category} reviews.")
",
    "        
",
    "    if os.path.exists(meta_path):
",
    "        print(f"Loading Amazon {category} metadata from {meta_path}")
",
    "        meta_ddf = dd.read_parquet(meta_path)
",
    "    else:
",
    "        print(f"Warning: {meta_path} not found. Skipping {category} metadata.")
",
    "        
",
    "    return reviews_ddf, meta_ddf
",
    "
",
    "def load_movielens_data():
",
    "    """Load MovieLens ratings, movies, and tags from Parquet using Dask."""
",
    "    ratings_path = os.path.join(MOVIELENS_PROCESSED_DIR, 'ratings.parquet')
",
    "    movies_path = os.path.join(MOVIELENS_PROCESSED_DIR, 'movies.parquet')
",
    "    tags_path = os.path.join(MOVIELENS_PROCESSED_DIR, 'tags.parquet')
",
    "
",
    "    ratings_ddf = None
",
    "    movies_ddf = None
",
    "    tags_ddf = None
",
    "
",
    "    if os.path.exists(ratings_path):
",
    "        print(f"Loading MovieLens ratings from {ratings_path}")
",
    "        ratings_ddf = dd.read_parquet(ratings_path)
",
    "    else:
",
    "        print(f"Warning: {ratings_path} not found. Skipping MovieLens ratings.")
",
    "
",
    "    if os.path.exists(movies_path):
",
    "        print(f"Loading MovieLens movies from {movies_path}")
",
    "        movies_ddf = dd.read_parquet(movies_path)
",
    "    else:
",
    "        print(f"Warning: {movies_path} not found. Skipping MovieLens movies.")
",
    "
",
    "    if os.path.exists(tags_path):
",
    "        print(f"Loading MovieLens tags from {tags_path}")
",
    "        tags_ddf = dd.read_parquet(tags_path)
",
    "    else:
",
    "        print(f"Warning: {tags_path} not found. Skipping MovieLens tags.")
",
    "
",
    "    return ratings_ddf, movies_ddf, tags_ddf"
   ]
  },
  {
   "cell_type": "markdown",
   "metadata": {},
   "source": [
    "## 2. Basic Data Overview and Summary Statistics\n",
    "\n",
    "We'll start by looking at the basic information and summary statistics for each dataset."
   ]
  },
  {
   "cell_type": "code",
   "execution_count": null,
   "metadata": {},
   "outputs": [],
   "source": [
    "# --- Amazon Data Overview ---
",
    "amazon_data = {}
",
    "for category in tqdm(AMAZON_CATEGORIES, desc="Amazon Categories Overview"):
",
    "    print(f"\n--- Amazon {category} Data ---")
",
    "    reviews_ddf, meta_ddf = load_amazon_data(category)
",
    "    amazon_data[category] = {'reviews': reviews_ddf, 'meta': meta_ddf}
",
    "
",
    "    if reviews_ddf is not None:
",
    "        print(f"\n{category} Reviews Info:")
",
    "        reviews_ddf.info()
",
    "        print(f"\n{category} Reviews Head:")
",
    "        print(reviews_ddf.head().compute())
",
    "        print(f"\n{category} Reviews Describe:")
",
    "        print(reviews_ddf.describe().compute())
",
    "    
",
    "    if meta_ddf is not None:
",
    "        print(f"\n{category} Metadata Info:")
",
    "        meta_ddf.info()
",
    "        print(f"\n{category} Metadata Head:")
",
    "        print(meta_ddf.head().compute())
",
    "        print(f"\n{category} Metadata Describe:")
",
    "        print(meta_ddf.describe().compute())
",
    "
",
    "# --- MovieLens Data Overview ---
",
    "print("\n--- MovieLens Data ---")
",
    "ratings_ddf, movies_ddf, tags_ddf = load_movielens_data()
",
    "movielens_data = {'ratings': ratings_ddf, 'movies': movies_ddf, 'tags': tags_ddf}
",
    "
",
    "if ratings_ddf is not None:
",
    "    print("\nMovieLens Ratings Info:")
",
    "    ratings_ddf.info()
",
    "    print("\nMovieLens Ratings Head:")
",
    "    print(ratings_ddf.head().compute())
",
    "    print("\nMovieLens Ratings Describe:")
",
    "    print(ratings_ddf.describe().compute())
",
    "
",
    "if movies_ddf is not None:
",
    "    print("\nMovieLens Movies Info:")
",
    "    movies_ddf.info()
",
    "    print("\nMovieLens Movies Head:")
",
    "    print(movies_ddf.head().compute())
",
    "    print("\nMovieLens Movies Describe:")
",
    "    print(movies_ddf.describe().compute())
",
    "
",
    "if tags_ddf is not None:
",
    "    print("\nMovieLens Tags Info:")
",
    "    tags_ddf.info()
",
    "    print("\nMovieLens Tags Head:")
",
    "    print(tags_ddf.head().compute())
",
    "    print("\nMovieLens Tags Describe:")
",
    "    print(tags_ddf.describe().compute())"
   ]
  },
  {
   "cell_type": "markdown",
   "metadata": {},
   "source": [
    "## 3. Missing Value Analysis\n",
    "\n",
    "Identify and visualize the extent of missing values in each dataset."
   ]
  },
  {
   "cell_type": "code",
   "execution_count": null,
   "metadata": {},
   "outputs": [],
   "source": [
    "def plot_missing_values(ddf, title):
",
    "    """Plot missing values for a Dask DataFrame."""
",
    "    if ddf is None:
",
    "        print(f"Cannot plot missing values for {title}: No data.")
",
    "        return
",
    "    
",
    "    missing_counts = ddf.isnull().sum().compute()
",
    "    missing_percentage = (missing_counts / len(ddf)).compute() * 100
",
    "    
",
    "    missing_info = pd.DataFrame({
",
    "        'Missing Count': missing_counts,
",
    "        'Missing Percentage': missing_percentage
",
    "    })
",
    "    missing_info = missing_info[missing_info['Missing Count'] > 0].sort_values(by='Missing Percentage', ascending=False)
",
    "
",
    "    if not missing_info.empty:
",
    "        print(f"\nMissing Values in {title}:")
",
    "        print(missing_info)
",
    "        
",
    "        plt.figure(figsize=(10, 6))
",
    "        sns.barplot(x=missing_info.index, y='Missing Percentage', data=missing_info)
",
    "        plt.title(f'Missing Values Percentage in {title}')
",
    "        plt.ylabel('Missing Percentage (%)')
",
    "        plt.xlabel('Columns')
",
    "        plt.xticks(rotation=45, ha='right')
",
    "        plt.tight_layout()
",
    "        plt.show()
",
    "    else:
",
    "        print(f"No missing values found in {title}.")"
   ]
  },
  {
   "cell_type": "code",
   "execution_count": null,
   "metadata": {},
   "outputs": [],
   "source": [
    "for category, data in amazon_data.items():
",
    "    plot_missing_values(data['reviews'], f'Amazon {category} Reviews')
",
    "    plot_missing_values(data['meta'], f'Amazon {category} Metadata')
",
    "
",
    "plot_missing_values(movielens_data['ratings'], 'MovieLens Ratings')
",
    "plot_missing_values(movielens_data['movies'], 'MovieLens Movies')
",
    "plot_missing_values(movielens_data['tags'], 'MovieLens Tags')"
   ]
  },
  {
   "cell_type": "markdown",
   "metadata": {},
   "source": [
    "## 4. High-Level Distributions\n",
    "\n",
    "Visualize the distribution of key identifiers and ratings."
   ]
  },
  {
   "cell_type": "code",
   "execution_count": null,
   "metadata": {},
   "outputs": [],
   "source": [
    "def plot_unique_counts(ddf, col, title):
",
    "    """Plot the count of unique values for a column."""
",
    "    if ddf is None:
",
    "        print(f"Cannot plot unique counts for {title}: No data.")
",
    "        return
",
    "    
",
    "    unique_count = ddf[col].nunique().compute()
",
    "    print(f"Number of unique {col} in {title}: {unique_count}")
",
    "
",
    "def plot_rating_distribution(ddf, rating_col, title):
",
    "    """Plot the distribution of ratings."""
",
    "    if ddf is None or rating_col not in ddf.columns:
",
    "        print(f"Cannot plot rating distribution for {title}: No data or '{rating_col}' column missing.")
",
    "        return
",
    "    
",
    "    ratings_counts = ddf[rating_col].value_counts().compute().sort_index()
",
    "    
",
    "    plt.figure(figsize=(8, 5))
",
    "    sns.barplot(x=ratings_counts.index, y=ratings_counts.values)
",
    "    plt.title(f'Rating Distribution in {title}')
",
    "    plt.xlabel('Rating')
",
    "    plt.ylabel('Count')
",
    "    plt.show()"
   ]
  },
  {
   "cell_type": "code",
   "execution_count": null,
   "metadata": {},
   "outputs": [],
   "source": [
    "# --- Amazon Data Distributions ---
",
    "for category, data in amazon_data.items():
",
    "    if data['reviews'] is not None:
",
    "        print(f"\n--- Amazon {category} Reviews Distributions ---")
",
    "        plot_unique_counts(data['reviews'], 'reviewerID', f'Amazon {category} Reviews Users')
",
    "        plot_unique_counts(data['reviews'], 'asin', f'Amazon {category} Reviews Items')
",
    "        # Assuming 'overall' is the rating column for Amazon reviews
",
    "        plot_rating_distribution(data['reviews'], 'overall', f'Amazon {category} Reviews')
",
    "
",
    "# --- MovieLens Data Distributions ---
",
    "if movielens_data['ratings'] is not None:
",
    "    print("\n--- MovieLens Ratings Distributions ---")
",
    "    plot_unique_counts(movielens_data['ratings'], 'user_id', 'MovieLens Ratings Users')
",
    "    plot_unique_counts(movielens_data['ratings'], 'item_id', 'MovieLens Ratings Items')
",
    "    plot_rating_distribution(movielens_data['ratings'], 'rating', 'MovieLens Ratings')
",
    "
",
    "if movielens_data['movies'] is not None:
",
    "    print("\n--- MovieLens Movies Distributions ---")
",
    "    plot_unique_counts(movielens_data['movies'], 'movieId', 'MovieLens Movies')
",
    "    # Example: Distribution of movie genres (requires more complex parsing)
",
    "    # genres_counts = movielens_data['movies']['genres'].str.get_dummies(sep='|').sum().compute()
",
    "    # print("\nTop Movie Genres:")
",
    "    # print(genres_counts.sort_values(ascending=False).head(10))
",
    "
",
    "if movielens_data['tags'] is not None:
",
    "    print("\n--- MovieLens Tags Distributions ---")
",
    "    plot_unique_counts(movielens_data['tags'], 'tag', 'MovieLens Tags')"
   ]
  },
  {
   "cell_type": "markdown",
   "metadata": {},
   "source": [
    "## 5. Initial Observations and Next Steps\n",
    "\n",
    "This section will summarize the initial findings from the data exploration, highlighting any immediate insights or potential data quality issues. It will also outline the next steps, which typically involve more in-depth analysis (like sparsity, as covered in `3_eda_sparsity.ipynb`), feature engineering, and model prototyping."
   ]
  }
 ],
 "metadata": {
  "kernelspec": {
   "display_name": "Python 3",
   "language": "python",
   "name": "python3"
  },
  "language_info": {
   "codemirror_mode": {
    "name": "ipython",
    "version": 3
   },
   "file_extension": ".py",
   "mimetype": "text/x-python",
   "name": "python",
   "nbconvert_exporter": "python",
   "pygments_lexer": "ipython3",
   "version": "3.9.18"
  }
 },
 "nbformat": 4,
 "nbformat_minor": 4
}
