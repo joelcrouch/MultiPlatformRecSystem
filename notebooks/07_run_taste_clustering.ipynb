{
 "cells": [
  {
   "cell_type": "code",
   "execution_count": null,
   "metadata": {},
   "outputs": [
    {
     "name": "stdout",
     "output_type": "stream",
     "text": [
      "--- Executing raw_taste_based_clustering.py ---\n",
      "✅ Connected to MongoDB.\n",
      "⏳ Running aggregation pipeline on MongoDB... This may take a few minutes.\n"
     ]
    }
   ],
   "source": [
    "# This cell loads and executes the clustering script.\n",
    "# You can edit the script in 'raw_taste_based_clustering.py'\n",
    "\n",
    "print(\"--- Executing raw_taste_based_clustering.py ---\")\n",
    "\n",
    "with open('../raw_taste_based_clustering.py', 'r') as f:\n",
    "    script_content = f.read()\n",
    "\n",
    "exec(script_content)\n",
    "\n",
    "print(\"--- Script execution finished. ---\")"
   ]
  },
  {
   "cell_type": "code",
   "execution_count": null,
   "metadata": {},
   "outputs": [],
   "source": []
  }
 ],
 "metadata": {
  "kernelspec": {
   "display_name": "Python 3 (ipykernel)",
   "language": "python",
   "name": "python3"
  },
  "language_info": {
   "codemirror_mode": {
    "name": "ipython",
    "version": 3
   },
   "file_extension": ".py",
   "mimetype": "text/x-python",
   "name": "python",
   "nbconvert_exporter": "python",
   "pygments_lexer": "ipython3",
   "version": "3.9.23"
  }
 },
 "nbformat": 4,
 "nbformat_minor": 4
}
